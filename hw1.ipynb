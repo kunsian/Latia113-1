{
  "nbformat": 4,
  "nbformat_minor": 0,
  "metadata": {
    "colab": {
      "provenance": [],
      "gpuType": "T4"
    },
    "kernelspec": {
      "name": "python3",
      "display_name": "Python 3"
    },
    "language_info": {
      "name": "python"
    },
    "accelerator": "GPU"
  },
  "cells": [
    {
      "cell_type": "markdown",
      "source": [
        "學習print中間的一些內文運用"
      ],
      "metadata": {
        "id": "ORUHkFywz439"
      }
    },
    {
      "cell_type": "code",
      "source": [
        "a='0123456789abcdef'\n",
        "print(a[0])\n",
        "print(a[3])\n",
        "print(a[-1])\n",
        "print(a[:])\n",
        "print(a[5:])\n",
        "print(a[:5])\n",
        "print(a[5:10])\n",
        "print(a[5:-3])\n",
        "print(a[5:10:2])"
      ],
      "metadata": {
        "colab": {
          "base_uri": "https://localhost:8080/"
        },
        "id": "rpMrEYB1U8ro",
        "outputId": "41d203d6-d844-4c29-a071-93d98234b7d4"
      },
      "execution_count": 16,
      "outputs": [
        {
          "output_type": "stream",
          "name": "stdout",
          "text": [
            "0\n",
            "3\n",
            "f\n",
            "0123456789abcdef\n",
            "56789abcdef\n",
            "01234\n",
            "56789\n",
            "56789abc\n",
            "579\n"
          ]
        }
      ]
    },
    {
      "cell_type": "markdown",
      "source": [
        "學習計算字母長度"
      ],
      "metadata": {
        "id": "pW_zjuIn0DMq"
      }
    },
    {
      "cell_type": "code",
      "source": [
        "a='hello world'\n",
        "print(len(a))"
      ],
      "metadata": {
        "colab": {
          "base_uri": "https://localhost:8080/"
        },
        "id": "De_SorxRXGMH",
        "outputId": "52052a3e-2ac0-4dfe-eba6-1416ec01499b"
      },
      "execution_count": 15,
      "outputs": [
        {
          "output_type": "stream",
          "name": "stdout",
          "text": [
            "11\n"
          ]
        }
      ]
    },
    {
      "cell_type": "markdown",
      "source": [
        "學習print出中括號當中的一些內文"
      ],
      "metadata": {
        "id": "GkY-DRW50Lvc"
      }
    },
    {
      "cell_type": "code",
      "source": [
        "a=['apple','banana','orange']\n",
        "b=[1,2,3,4,5]\n",
        "c=['apple',1,2,3,'dog''cat']\n",
        "d=list('apple')\n",
        "t=('apple','banana','orange','grap')\n",
        "a,b,c,d,= t\n",
        "print(a)\n",
        "print(b)\n",
        "print(c)\n",
        "print(d)\n",
        "print(t[0])\n",
        "print(t[1])\n",
        "print(t[2])\n",
        "print(t[3])\n",
        "t1=('apple','banana','orange')\n",
        "t2=('grap','pineapple')"
      ],
      "metadata": {
        "colab": {
          "base_uri": "https://localhost:8080/"
        },
        "id": "gU9Eb05vXg9d",
        "outputId": "a8a67947-f17a-49cf-a91d-d805ade3e6a8"
      },
      "execution_count": 22,
      "outputs": [
        {
          "output_type": "stream",
          "name": "stdout",
          "text": [
            "apple\n",
            "banana\n",
            "orange\n",
            "grap\n",
            "apple\n",
            "banana\n",
            "orange\n",
            "grap\n"
          ]
        }
      ]
    },
    {
      "cell_type": "markdown",
      "source": [
        "鍵和值\n"
      ],
      "metadata": {
        "id": "9x-6CFUw0Vpc"
      }
    },
    {
      "cell_type": "code",
      "source": [
        "a=dict(name='oxxo',age=18,eat=18, eat2=['apple','banana'])\n",
        "print(a)\n",
        "print(type(a))"
      ],
      "metadata": {
        "colab": {
          "base_uri": "https://localhost:8080/"
        },
        "id": "dOxhJOvcdPRw",
        "outputId": "4865d98b-65c1-44e5-fd94-516e8bece992"
      },
      "execution_count": 24,
      "outputs": [
        {
          "output_type": "stream",
          "name": "stdout",
          "text": [
            "{'name': 'oxxo', 'age': 18, 'eat': 18, 'eat2': ['apple', 'banana']}\n",
            "<class 'dict'>\n"
          ]
        }
      ]
    },
    {
      "cell_type": "markdown",
      "source": [
        "用ab比大小去做不同的指令\n"
      ],
      "metadata": {
        "id": "Q0KBFUwB0d-U"
      }
    },
    {
      "cell_type": "code",
      "source": [
        "a=2\n",
        "b=3\n",
        "if a>b:\n",
        "  print('hello')\n",
        "else:\n",
        "  print('world')\n",
        "  print('ok')"
      ],
      "metadata": {
        "colab": {
          "base_uri": "https://localhost:8080/"
        },
        "id": "NowKXHdCpib1",
        "outputId": "149ab4e2-8b44-4b00-9681-c1312ed959dc"
      },
      "execution_count": 29,
      "outputs": [
        {
          "output_type": "stream",
          "name": "stdout",
          "text": [
            "world\n",
            "ok\n"
          ]
        }
      ]
    },
    {
      "cell_type": "markdown",
      "source": [
        "同上的進階版"
      ],
      "metadata": {
        "id": "Et2nXYeU0pw8"
      }
    },
    {
      "cell_type": "code",
      "source": [
        "a=2\n",
        "b=3\n",
        "c=0\n",
        "if a>b or a<c and a==2 or b==4 :\n",
        "\n",
        "    print('ok1')\n",
        "else:\n",
        "    print('xxx')"
      ],
      "metadata": {
        "colab": {
          "base_uri": "https://localhost:8080/"
        },
        "id": "G0tF31tDrDnb",
        "outputId": "1b123bb5-a723-472d-9532-259feaf20a2a"
      },
      "execution_count": 40,
      "outputs": [
        {
          "output_type": "stream",
          "name": "stdout",
          "text": [
            "xxx\n"
          ]
        }
      ]
    },
    {
      "cell_type": "markdown",
      "source": [
        "雙層迴圈"
      ],
      "metadata": {
        "id": "s_XN_0-CxuSs"
      }
    },
    {
      "cell_type": "code",
      "source": [
        "for a in ['x','y','z']:\n",
        "    for b in [1,2,3]:\n",
        "        print(b)\n",
        "    print(a)"
      ],
      "metadata": {
        "colab": {
          "base_uri": "https://localhost:8080/"
        },
        "id": "PbRobnLgsM4k",
        "outputId": "0eb94b0c-e384-4a0c-f37c-fe6313f58650"
      },
      "execution_count": 39,
      "outputs": [
        {
          "output_type": "stream",
          "name": "stdout",
          "text": [
            "1\n",
            "2\n",
            "3\n",
            "x\n",
            "1\n",
            "2\n",
            "3\n",
            "y\n",
            "1\n",
            "2\n",
            "3\n",
            "z\n"
          ]
        }
      ]
    },
    {
      "cell_type": "markdown",
      "source": [
        "中間卡住的解決方法"
      ],
      "metadata": {
        "id": "GNPPpCmKzfb0"
      }
    },
    {
      "cell_type": "code",
      "source": [
        "try:\n",
        "   a=imput\n",
        "   print(a+1)\n",
        "except:\n",
        "    pass\n",
        "print('hello')"
      ],
      "metadata": {
        "colab": {
          "base_uri": "https://localhost:8080/"
        },
        "id": "Fkpst1C9tEHL",
        "outputId": "0f4a4c3e-b21e-46b4-be2b-e8571732cf10"
      },
      "execution_count": 36,
      "outputs": [
        {
          "output_type": "stream",
          "name": "stdout",
          "text": [
            "hello\n"
          ]
        }
      ]
    },
    {
      "cell_type": "markdown",
      "source": [
        "學習Print"
      ],
      "metadata": {
        "id": "b49bGCbNzYGz"
      }
    },
    {
      "cell_type": "code",
      "execution_count": 8,
      "metadata": {
        "colab": {
          "base_uri": "https://localhost:8080/"
        },
        "id": "aTQEfWcAPrr0",
        "outputId": "8b5d442f-fe5b-4647-bbb3-4d99e4e41d5d"
      },
      "outputs": [
        {
          "output_type": "stream",
          "name": "stdout",
          "text": [
            "jdncjdnknckasnkcanskjancsakjcnaksjnkkajsncknc\n"
          ]
        }
      ],
      "source": [
        "a=\"\"\"jdncjdnknckasnkcanskjancsakjcnaksjnkkajsncknc\"\"\"\n",
        "print(a)"
      ]
    },
    {
      "cell_type": "markdown",
      "source": [
        "創建環境"
      ],
      "metadata": {
        "id": "NSmiI1ABzSNs"
      }
    },
    {
      "cell_type": "code",
      "source": [
        "print('hELLO world')"
      ],
      "metadata": {
        "colab": {
          "base_uri": "https://localhost:8080/"
        },
        "id": "A0kAi7yyQq0P",
        "outputId": "9277b79c-786b-49eb-b3d8-c97830108440"
      },
      "execution_count": 4,
      "outputs": [
        {
          "output_type": "stream",
          "name": "stdout",
          "text": [
            "hELLO world\n"
          ]
        }
      ]
    }
  ]
}